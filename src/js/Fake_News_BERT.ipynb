{
  "cells": [
    {
      "cell_type": "markdown",
      "metadata": {
        "id": "D1FYhWUKX-zM"
      },
      "source": [
        "# Loading and Displaying Data"
      ]
    },
    {
      "cell_type": "code",
      "execution_count": 2,
      "metadata": {
        "colab": {
          "base_uri": "https://localhost:8080/"
        },
        "id": "EIKoEd4kGZvF",
        "outputId": "2ec49b2c-5cc1-43db-d866-d1cfbe737899"
      },
      "outputs": [
        {
          "name": "stderr",
          "output_type": "stream",
          "text": [
            "/var/folders/z0/wcydrvg112ldqtsrvsz00wph0000gn/T/ipykernel_33783/1215028611.py:1: DeprecationWarning: \n",
            "Pyarrow will become a required dependency of pandas in the next major release of pandas (pandas 3.0),\n",
            "(to allow more performant data types, such as the Arrow string type, and better interoperability with other libraries)\n",
            "but was not found to be installed on your system.\n",
            "If this would cause problems for you,\n",
            "please provide us feedback at https://github.com/pandas-dev/pandas/issues/54466\n",
            "        \n",
            "  import pandas as pd\n"
          ]
        },
        {
          "name": "stdout",
          "output_type": "stream",
          "text": [
            "                                                   title  \\\n",
            "0      As U.S. budget fight looms, Republicans flip t...   \n",
            "1      U.S. military to accept transgender recruits o...   \n",
            "2      Senior U.S. Republican senator: 'Let Mr. Muell...   \n",
            "3      FBI Russia probe helped by Australian diplomat...   \n",
            "4      Trump wants Postal Service to charge 'much mor...   \n",
            "...                                                  ...   \n",
            "21412  'Fully committed' NATO backs new U.S. approach...   \n",
            "21413  LexisNexis withdrew two products from Chinese ...   \n",
            "21414  Minsk cultural hub becomes haven from authorities   \n",
            "21415  Vatican upbeat on possibility of Pope Francis ...   \n",
            "21416  Indonesia to buy $1.14 billion worth of Russia...   \n",
            "\n",
            "                                                    text       subject  \\\n",
            "0      WASHINGTON (Reuters) - The head of a conservat...  politicsNews   \n",
            "1      WASHINGTON (Reuters) - Transgender people will...  politicsNews   \n",
            "2      WASHINGTON (Reuters) - The special counsel inv...  politicsNews   \n",
            "3      WASHINGTON (Reuters) - Trump campaign adviser ...  politicsNews   \n",
            "4      SEATTLE/WASHINGTON (Reuters) - President Donal...  politicsNews   \n",
            "...                                                  ...           ...   \n",
            "21412  BRUSSELS (Reuters) - NATO allies on Tuesday we...     worldnews   \n",
            "21413  LONDON (Reuters) - LexisNexis, a provider of l...     worldnews   \n",
            "21414  MINSK (Reuters) - In the shadow of disused Sov...     worldnews   \n",
            "21415  MOSCOW (Reuters) - Vatican Secretary of State ...     worldnews   \n",
            "21416  JAKARTA (Reuters) - Indonesia will buy 11 Sukh...     worldnews   \n",
            "\n",
            "                     date  \n",
            "0      December 31, 2017   \n",
            "1      December 29, 2017   \n",
            "2      December 31, 2017   \n",
            "3      December 30, 2017   \n",
            "4      December 29, 2017   \n",
            "...                   ...  \n",
            "21412    August 22, 2017   \n",
            "21413    August 22, 2017   \n",
            "21414    August 22, 2017   \n",
            "21415    August 22, 2017   \n",
            "21416    August 22, 2017   \n",
            "\n",
            "[21417 rows x 4 columns]\n",
            "Length (rows): 21417\n"
          ]
        }
      ],
      "source": [
        "import pandas as pd\n",
        "\n",
        "# Load the datasets\n",
        "real_news = pd.read_csv('True.csv')\n",
        "\n",
        "# Printing head and tail\n",
        "print(real_news)\n",
        "\n",
        "# Print length => rows\n",
        "print(\"Length (rows):\", len(real_news))\n"
      ]
    },
    {
      "cell_type": "code",
      "execution_count": 3,
      "metadata": {
        "colab": {
          "base_uri": "https://localhost:8080/"
        },
        "id": "TTBA9Fg9GiPq",
        "outputId": "e21f6e62-c4e6-415b-be19-562cd86e8db3"
      },
      "outputs": [
        {
          "name": "stdout",
          "output_type": "stream",
          "text": [
            "                                                   title  \\\n",
            "0       Donald Trump Sends Out Embarrassing New Year’...   \n",
            "1       Drunk Bragging Trump Staffer Started Russian ...   \n",
            "2       Sheriff David Clarke Becomes An Internet Joke...   \n",
            "3       Trump Is So Obsessed He Even Has Obama’s Name...   \n",
            "4       Pope Francis Just Called Out Donald Trump Dur...   \n",
            "...                                                  ...   \n",
            "23476  McPain: John McCain Furious That Iran Treated ...   \n",
            "23477  JUSTICE? Yahoo Settles E-mail Privacy Class-ac...   \n",
            "23478  Sunnistan: US and Allied ‘Safe Zone’ Plan to T...   \n",
            "23479  How to Blow $700 Million: Al Jazeera America F...   \n",
            "23480  10 U.S. Navy Sailors Held by Iranian Military ...   \n",
            "\n",
            "                                                    text      subject  \\\n",
            "0      Donald Trump just couldn t wish all Americans ...         News   \n",
            "1      House Intelligence Committee Chairman Devin Nu...         News   \n",
            "2      On Friday, it was revealed that former Milwauk...         News   \n",
            "3      On Christmas day, Donald Trump announced that ...         News   \n",
            "4      Pope Francis used his annual Christmas Day mes...         News   \n",
            "...                                                  ...          ...   \n",
            "23476  21st Century Wire says As 21WIRE reported earl...  Middle-east   \n",
            "23477  21st Century Wire says It s a familiar theme. ...  Middle-east   \n",
            "23478  Patrick Henningsen  21st Century WireRemember ...  Middle-east   \n",
            "23479  21st Century Wire says Al Jazeera America will...  Middle-east   \n",
            "23480  21st Century Wire says As 21WIRE predicted in ...  Middle-east   \n",
            "\n",
            "                    date  \n",
            "0      December 31, 2017  \n",
            "1      December 31, 2017  \n",
            "2      December 30, 2017  \n",
            "3      December 29, 2017  \n",
            "4      December 25, 2017  \n",
            "...                  ...  \n",
            "23476   January 16, 2016  \n",
            "23477   January 16, 2016  \n",
            "23478   January 15, 2016  \n",
            "23479   January 14, 2016  \n",
            "23480   January 12, 2016  \n",
            "\n",
            "[23481 rows x 4 columns]\n",
            "Length (rows): 23481\n"
          ]
        }
      ],
      "source": [
        "import pandas as pd\n",
        "\n",
        "# Load the datasets\n",
        "fake_news = pd.read_csv('Fake.csv')\n",
        "\n",
        "# Printing head and tail\n",
        "print(fake_news)\n",
        "\n",
        "# Print length => rows\n",
        "print(\"Length (rows):\", len(fake_news))\n"
      ]
    },
    {
      "cell_type": "markdown",
      "metadata": {
        "id": "DvEKkMnwYCoO"
      },
      "source": [
        "# Combining and Shuffling the data"
      ]
    },
    {
      "cell_type": "code",
      "execution_count": 5,
      "metadata": {
        "colab": {
          "base_uri": "https://localhost:8080/",
          "height": 832
        },
        "id": "rADmIBu0Gj-g",
        "outputId": "d8ee8aff-75aa-4185-d136-81f943ca5273"
      },
      "outputs": [
        {
          "name": "stdout",
          "output_type": "stream",
          "text": [
            "Data loaded successfully and combined CSV generated!\n"
          ]
        },
        {
          "data": {
            "text/html": [
              "<div>\n",
              "<style scoped>\n",
              "    .dataframe tbody tr th:only-of-type {\n",
              "        vertical-align: middle;\n",
              "    }\n",
              "\n",
              "    .dataframe tbody tr th {\n",
              "        vertical-align: top;\n",
              "    }\n",
              "\n",
              "    .dataframe thead th {\n",
              "        text-align: right;\n",
              "    }\n",
              "</style>\n",
              "<table border=\"1\" class=\"dataframe\">\n",
              "  <thead>\n",
              "    <tr style=\"text-align: right;\">\n",
              "      <th></th>\n",
              "      <th>title</th>\n",
              "      <th>text</th>\n",
              "      <th>subject</th>\n",
              "      <th>date</th>\n",
              "      <th>label</th>\n",
              "    </tr>\n",
              "  </thead>\n",
              "  <tbody>\n",
              "    <tr>\n",
              "      <th>9523</th>\n",
              "      <td>Obama administration releases rules on wellnes...</td>\n",
              "      <td>(Reuters) - A federal agency on Monday release...</td>\n",
              "      <td>politicsNews</td>\n",
              "      <td>May 16, 2016</td>\n",
              "      <td>1</td>\n",
              "    </tr>\n",
              "    <tr>\n",
              "      <th>10204</th>\n",
              "      <td>Measure to hike California's minimum wage to $...</td>\n",
              "      <td>(Reuters) - A proposal to raise California’s m...</td>\n",
              "      <td>politicsNews</td>\n",
              "      <td>March 23, 2016</td>\n",
              "      <td>1</td>\n",
              "    </tr>\n",
              "    <tr>\n",
              "      <th>11689</th>\n",
              "      <td>GOTCHA! CNN PANELIST Called Out For Lying Abou...</td>\n",
              "      <td>https://www.youtube.com/watch?v=ISm-p8e-D7I</td>\n",
              "      <td>politics</td>\n",
              "      <td>Feb 10, 2017</td>\n",
              "      <td>0</td>\n",
              "    </tr>\n",
              "    <tr>\n",
              "      <th>9938</th>\n",
              "      <td>President Trump’s Moving Pentagon Speech and C...</td>\n",
              "      <td>President Trump and First Lady Melania commemo...</td>\n",
              "      <td>politics</td>\n",
              "      <td>Sep 11, 2017</td>\n",
              "      <td>0</td>\n",
              "    </tr>\n",
              "    <tr>\n",
              "      <th>19788</th>\n",
              "      <td>DRUDGE THREATENS HILLARY…He’s About To Drop Bo...</td>\n",
              "      <td>Poor old Crooked Hillary the hits are coming f...</td>\n",
              "      <td>left-news</td>\n",
              "      <td>Oct 17, 2016</td>\n",
              "      <td>0</td>\n",
              "    </tr>\n",
              "    <tr>\n",
              "      <th>...</th>\n",
              "      <td>...</td>\n",
              "      <td>...</td>\n",
              "      <td>...</td>\n",
              "      <td>...</td>\n",
              "      <td>...</td>\n",
              "    </tr>\n",
              "    <tr>\n",
              "      <th>19033</th>\n",
              "      <td>MARK LEVIN Outlines Evidence Of Spying By Obam...</td>\n",
              "      <td></td>\n",
              "      <td>left-news</td>\n",
              "      <td>Mar 5, 2017</td>\n",
              "      <td>0</td>\n",
              "    </tr>\n",
              "    <tr>\n",
              "      <th>20187</th>\n",
              "      <td>HABITUAL LIAR: Remember The Touching Story Hil...</td>\n",
              "      <td>Last Thursday, during Hillary s acceptance spe...</td>\n",
              "      <td>left-news</td>\n",
              "      <td>Aug 1, 2016</td>\n",
              "      <td>0</td>\n",
              "    </tr>\n",
              "    <tr>\n",
              "      <th>3863</th>\n",
              "      <td>Donald Trump From 2012 Would Agree He LOST Th...</td>\n",
              "      <td>If there s one thing this election succeeded i...</td>\n",
              "      <td>News</td>\n",
              "      <td>November 9, 2016</td>\n",
              "      <td>0</td>\n",
              "    </tr>\n",
              "    <tr>\n",
              "      <th>5402</th>\n",
              "      <td>Violent Sheriff Who Threatened Federal Prosec...</td>\n",
              "      <td>After two very high profile mass shootings of ...</td>\n",
              "      <td>News</td>\n",
              "      <td>July 20, 2016</td>\n",
              "      <td>0</td>\n",
              "    </tr>\n",
              "    <tr>\n",
              "      <th>12033</th>\n",
              "      <td>Kremlin says U.S. tip-off about planned attack...</td>\n",
              "      <td>MOSCOW (Reuters) - A U.S. tip-off about a plan...</td>\n",
              "      <td>worldnews</td>\n",
              "      <td>December 18, 2017</td>\n",
              "      <td>1</td>\n",
              "    </tr>\n",
              "  </tbody>\n",
              "</table>\n",
              "<p>44898 rows × 5 columns</p>\n",
              "</div>"
            ],
            "text/plain": [
              "                                                   title  \\\n",
              "9523   Obama administration releases rules on wellnes...   \n",
              "10204  Measure to hike California's minimum wage to $...   \n",
              "11689  GOTCHA! CNN PANELIST Called Out For Lying Abou...   \n",
              "9938   President Trump’s Moving Pentagon Speech and C...   \n",
              "19788  DRUDGE THREATENS HILLARY…He’s About To Drop Bo...   \n",
              "...                                                  ...   \n",
              "19033  MARK LEVIN Outlines Evidence Of Spying By Obam...   \n",
              "20187  HABITUAL LIAR: Remember The Touching Story Hil...   \n",
              "3863    Donald Trump From 2012 Would Agree He LOST Th...   \n",
              "5402    Violent Sheriff Who Threatened Federal Prosec...   \n",
              "12033  Kremlin says U.S. tip-off about planned attack...   \n",
              "\n",
              "                                                    text       subject  \\\n",
              "9523   (Reuters) - A federal agency on Monday release...  politicsNews   \n",
              "10204  (Reuters) - A proposal to raise California’s m...  politicsNews   \n",
              "11689        https://www.youtube.com/watch?v=ISm-p8e-D7I      politics   \n",
              "9938   President Trump and First Lady Melania commemo...      politics   \n",
              "19788  Poor old Crooked Hillary the hits are coming f...     left-news   \n",
              "...                                                  ...           ...   \n",
              "19033                                                        left-news   \n",
              "20187  Last Thursday, during Hillary s acceptance spe...     left-news   \n",
              "3863   If there s one thing this election succeeded i...          News   \n",
              "5402   After two very high profile mass shootings of ...          News   \n",
              "12033  MOSCOW (Reuters) - A U.S. tip-off about a plan...     worldnews   \n",
              "\n",
              "                     date  label  \n",
              "9523        May 16, 2016       1  \n",
              "10204     March 23, 2016       1  \n",
              "11689        Feb 10, 2017      0  \n",
              "9938         Sep 11, 2017      0  \n",
              "19788        Oct 17, 2016      0  \n",
              "...                   ...    ...  \n",
              "19033         Mar 5, 2017      0  \n",
              "20187         Aug 1, 2016      0  \n",
              "3863     November 9, 2016      0  \n",
              "5402        July 20, 2016      0  \n",
              "12033  December 18, 2017       1  \n",
              "\n",
              "[44898 rows x 5 columns]"
            ]
          },
          "execution_count": 5,
          "metadata": {},
          "output_type": "execute_result"
        }
      ],
      "source": [
        "# Load the dataset\n",
        "fake_news = pd.read_csv('Fake.csv')\n",
        "real_news = pd.read_csv('True.csv')\n",
        "\n",
        "# Combine the datasets and shuffle\n",
        "fake_news['label'] = 0    # adds a column\n",
        "real_news['label'] = 1\n",
        "\n",
        "data = pd.concat([fake_news, real_news]).sample(frac=1.0)   # frac 1.0 => returns all the data (rows)\n",
        "\n",
        "# Write the combined data to a new CSV file\n",
        "data.to_csv('Combined.csv', index=False)\n",
        "\n",
        "print(\"Data loaded successfully and combined CSV generated!\")\n",
        "\n",
        "data"
      ]
    },
    {
      "cell_type": "markdown",
      "metadata": {
        "id": "Fkv-BogQYK1S"
      },
      "source": [
        "# Preprocess Function"
      ]
    },
    {
      "cell_type": "code",
      "execution_count": 5,
      "metadata": {
        "id": "K_hH1GM2GkAK"
      },
      "outputs": [],
      "source": [
        "import re\n",
        "from nltk.stem import PorterStemmer\n",
        "\n",
        "stemmer = PorterStemmer()\n",
        "\n",
        "def preprocess_text(text):\n",
        "    # Replace characters that are not between a to z or A to Z with whitespace\n",
        "    text = re.sub('[^a-zA-Z]', ' ', text)\n",
        "\n",
        "    # Convert all characters into lowercase\n",
        "    text = text.lower()\n",
        "\n",
        "    # Remove inflectional morphemes like \"ed\", \"est\", \"s\", and \"ing\" from their token stem\n",
        "    text = [stemmer.stem(word) for word in text.split()]\n",
        "\n",
        "    # Join the processed words back into a single string\n",
        "    text = ' '.join(text)\n",
        "\n",
        "    return text\n"
      ]
    },
    {
      "cell_type": "markdown",
      "metadata": {
        "id": "2ISfFCMaX59L"
      },
      "source": [
        "# Training the Model\n"
      ]
    },
    {
      "cell_type": "code",
      "execution_count": 11,
      "metadata": {
        "colab": {
          "base_uri": "https://localhost:8080/"
        },
        "id": "loZ3t2bONI9d",
        "outputId": "561d3879-4b29-4c14-beba-5eafd812611d"
      },
      "outputs": [
        {
          "name": "stdout",
          "output_type": "stream",
          "text": [
            "Using device: CPU:0\n",
            "\n",
            "Preprocessing data...\n",
            "\n",
            "Splitting Data...\n",
            "\n",
            "Tokenizing and Converting...\n"
          ]
        },
        {
          "name": "stderr",
          "output_type": "stream",
          "text": [
            "All PyTorch model weights were used when initializing TFBertForSequenceClassification.\n",
            "\n",
            "Some weights or buffers of the TF 2.0 model TFBertForSequenceClassification were not initialized from the PyTorch model and are newly initialized: ['classifier.weight', 'classifier.bias']\n",
            "You should probably TRAIN this model on a down-stream task to be able to use it for predictions and inference.\n",
            "WARNING:absl:At this time, the v2.11+ optimizer `tf.keras.optimizers.Adam` runs slowly on M1/M2 Macs, please use the legacy Keras optimizer instead, located at `tf.keras.optimizers.legacy.Adam`.\n"
          ]
        },
        {
          "name": "stdout",
          "output_type": "stream",
          "text": [
            "\n",
            "Compiling Model...\n",
            "\n",
            "Training Model...\n",
            "Epoch 1/4\n",
            "449/449 [==============================] - 2442s 5s/step - loss: 0.1673 - accuracy: 0.9381 - val_loss: 0.0932 - val_accuracy: 0.9627\n",
            "Epoch 2/4\n",
            "449/449 [==============================] - 2416s 5s/step - loss: 0.0712 - accuracy: 0.9742 - val_loss: 0.0860 - val_accuracy: 0.9687\n",
            "Epoch 3/4\n",
            "449/449 [==============================] - 2250s 5s/step - loss: 0.0357 - accuracy: 0.9866 - val_loss: 0.0807 - val_accuracy: 0.9759\n",
            "Epoch 4/4\n",
            "449/449 [==============================] - 2256s 5s/step - loss: 0.0204 - accuracy: 0.9930 - val_loss: 0.0994 - val_accuracy: 0.9741\n",
            "\n",
            "Saving Model...\n"
          ]
        }
      ],
      "source": [
        "import tensorflow as tf\n",
        "from transformers import BertTokenizer, TFBertForSequenceClassification\n",
        "\n",
        "# Check if GPU is available\n",
        "if tf.test.is_gpu_available():\n",
        "    device_name = tf.test.gpu_device_name()\n",
        "else:\n",
        "    device_name = 'CPU:0'\n",
        "print('Using device:', device_name)\n",
        "\n",
        "# Load the dataset\n",
        "data = pd.read_csv('Combined.csv')\n",
        "\n",
        "# Preprocess the text using the preprocessing function\n",
        "print(\"\\nPreprocessing data...\")\n",
        "\n",
        "data['title_preprocessed'] = data['title'].apply(preprocess_text)\n",
        "\n",
        "# Split the dataset into train, validation, and test sets\n",
        "train_ratio = 0.64\n",
        "val_ratio = 0.16\n",
        "test_ratio = 0.2\n",
        "\n",
        "print(\"\\nSplitting Data...\")\n",
        "\n",
        "train_data = data.sample(frac=train_ratio, random_state=42)\n",
        "remaining_data = data.drop(train_data.index)\n",
        "\n",
        "val_data = remaining_data.sample(frac=val_ratio/(val_ratio+test_ratio), random_state=42)\n",
        "test_data = remaining_data.drop(val_data.index)\n",
        "\n",
        "# Initialize BERT tokenizer\n",
        "tokenizer = BertTokenizer.from_pretrained('bert-base-uncased')\n",
        "\n",
        "# Tokenize the titles and convert them into BERT input tensors\n",
        "print(\"\\nTokenizing and Converting...\")\n",
        "\n",
        "train_inputs = tokenizer(list(train_data['title_preprocessed']), truncation=True, padding='max_length', max_length=42, return_tensors='tf')\n",
        "val_inputs = tokenizer(list(val_data['title_preprocessed']), truncation=True, padding='max_length', max_length=42, return_tensors='tf')\n",
        "test_inputs = tokenizer(list(test_data['title_preprocessed']), truncation=True, padding='max_length', max_length=42, return_tensors='tf')\n",
        "\n",
        "# Convert the labels into TensorFlow tensors\n",
        "train_labels = tf.convert_to_tensor(list(train_data['label']))\n",
        "val_labels = tf.convert_to_tensor(list(val_data['label']))\n",
        "test_labels = tf.convert_to_tensor(list(test_data['label']))\n",
        "\n",
        "# Extract token tensors, segment tensors, and mask tensors from the BERT inputs\n",
        "train_token_tensors = train_inputs['input_ids']\n",
        "train_segment_tensors = train_inputs['token_type_ids']\n",
        "train_mask_tensors = train_inputs['attention_mask']\n",
        "\n",
        "val_token_tensors = val_inputs['input_ids']\n",
        "val_segment_tensors = val_inputs['token_type_ids']\n",
        "val_mask_tensors = val_inputs['attention_mask']\n",
        "\n",
        "test_token_tensors = test_inputs['input_ids']\n",
        "test_segment_tensors = test_inputs['token_type_ids']\n",
        "test_mask_tensors = test_inputs['attention_mask']\n",
        "\n",
        "# Build the BERT model\n",
        "model = TFBertForSequenceClassification.from_pretrained('bert-base-uncased', num_labels=2)\n",
        "\n",
        "# Compile the model\n",
        "print(\"\\nCompiling Model...\")\n",
        "\n",
        "optimizer = tf.keras.optimizers.Adam(learning_rate=2e-5)\n",
        "loss = tf.keras.losses.SparseCategoricalCrossentropy(from_logits=True)\n",
        "metric = tf.keras.metrics.SparseCategoricalAccuracy('accuracy')\n",
        "\n",
        "model.compile(optimizer=optimizer, loss=loss, metrics=[metric])\n",
        "\n",
        "# Train the BERT model\n",
        "print(\"\\nTraining Model...\")\n",
        "\n",
        "batch_size = 64\n",
        "num_epochs = 4\n",
        "\n",
        "history = model.fit([train_token_tensors, train_segment_tensors, train_mask_tensors], train_labels, batch_size=batch_size, epochs=num_epochs, validation_data=([val_token_tensors, val_segment_tensors, val_mask_tensors], val_labels))\n",
        "\n",
        "# Save the trained model\n",
        "print(\"\\nSaving Model...\")\n",
        "\n",
        "model.save_pretrained('bert_model')\n",
        "\n"
      ]
    },
    {
      "cell_type": "markdown",
      "metadata": {
        "id": "bUlYf6JWXyKQ"
      },
      "source": [
        "# Validation"
      ]
    },
    {
      "cell_type": "code",
      "execution_count": 12,
      "metadata": {
        "colab": {
          "base_uri": "https://localhost:8080/"
        },
        "id": "FX3mw-GCNpuY",
        "outputId": "e248cd1a-dab4-4d3f-a7df-dde239bc2c51"
      },
      "outputs": [
        {
          "name": "stdout",
          "output_type": "stream",
          "text": [
            "141/141 [==============================] - 202s 1s/step - loss: 0.1144 - accuracy: 0.9724\n",
            "Test loss: 11.443%\n",
            "Test accuracy: 97.238%\n"
          ]
        }
      ],
      "source": [
        "# Evaluate the model on the test set\n",
        "loss, accuracy = model.evaluate([test_token_tensors, test_segment_tensors, test_mask_tensors], test_labels, batch_size=batch_size)\n",
        "print(f'Test loss: {loss * 100:.3f}%')\n",
        "print(f'Test accuracy: {accuracy * 100:.3f}%')\n",
        "\n"
      ]
    },
    {
      "cell_type": "markdown",
      "metadata": {
        "id": "0CpwrDHrX1FF"
      },
      "source": [
        "# Using the Model to predict"
      ]
    },
    {
      "cell_type": "code",
      "execution_count": 16,
      "metadata": {
        "colab": {
          "base_uri": "https://localhost:8080/"
        },
        "id": "B9l9GG-r5VHZ",
        "outputId": "9ec2c470-7f07-4f0e-b0d9-cbec5063f73c"
      },
      "outputs": [
        {
          "name": "stderr",
          "output_type": "stream",
          "text": [
            "Some layers from the model checkpoint at bert_model were not used when initializing TFBertForSequenceClassification: ['dropout_75']\n",
            "- This IS expected if you are initializing TFBertForSequenceClassification from the checkpoint of a model trained on another task or with another architecture (e.g. initializing a BertForSequenceClassification model from a BertForPreTraining model).\n",
            "- This IS NOT expected if you are initializing TFBertForSequenceClassification from the checkpoint of a model that you expect to be exactly identical (initializing a BertForSequenceClassification model from a BertForSequenceClassification model).\n",
            "All the layers of TFBertForSequenceClassification were initialized from the model checkpoint at bert_model.\n",
            "If your task is similar to the task the model of the checkpoint was trained on, you can already use TFBertForSequenceClassification for predictions without further training.\n"
          ]
        },
        {
          "name": "stdout",
          "output_type": "stream",
          "text": [
            "Preprocessed Text: former cia director slam trump over un bulli openli suggest he s act like a dictat\n",
            "1/1 [==============================] - 1s 1s/step\n",
            "\n",
            "*-*-Fake News-*-*\n",
            "\n",
            "Probability of being fake: 99.95%\n",
            "Probability of being real: 0.05%\n"
          ]
        }
      ],
      "source": [
        "from transformers import BertTokenizer, TFBertForSequenceClassification\n",
        "import tensorflow as tf\n",
        "\n",
        "# Load the saved model\n",
        "model = TFBertForSequenceClassification.from_pretrained('bert_model')\n",
        "\n",
        "# Initialize the tokenizer\n",
        "tokenizer = BertTokenizer.from_pretrained('bert-base-uncased')\n",
        "\n",
        "# Example input text\n",
        "input_text = input(\"\\n\\nEnter News Title: \")\n",
        "\n",
        "# Preprocess the input text\n",
        "preprocessed_text = preprocess_text(input_text)\n",
        "\n",
        "print(\"Preprocessed Text:\", preprocessed_text)\n",
        "\n",
        "# Tokenize the preprocessed text\n",
        "inputs = tokenizer(preprocessed_text, truncation=True, padding='max_length', max_length=42, return_tensors='tf')\n",
        "\n",
        "# Extract input tensors\n",
        "token_tensors = inputs['input_ids']\n",
        "segment_tensors = inputs['token_type_ids']\n",
        "mask_tensors = inputs['attention_mask']\n",
        "\n",
        "# Make predictions\n",
        "predictions = model.predict([token_tensors, segment_tensors, mask_tensors])\n",
        "logits = predictions.logits[0]\n",
        "probabilities = tf.nn.softmax(logits)\n",
        "predicted_label = tf.argmax(probabilities)\n",
        "\n",
        "# Print the predicted label and probabilities\n",
        "if predicted_label == 0:\n",
        "    print(\"\\n*-*-Fake News-*-*\")\n",
        "else:\n",
        "    print(\"\\n*-*-Real News-*-*\")\n",
        "\n",
        "print(\"\\nProbability of being fake: {:.2%}\".format(probabilities[0]))\n",
        "print(\"Probability of being real: {:.2%}\".format(probabilities[1]))\n"
      ]
    }
  ],
  "metadata": {
    "colab": {
      "gpuType": "T4",
      "provenance": []
    },
    "kernelspec": {
      "display_name": "Python 3",
      "name": "python3"
    },
    "language_info": {
      "codemirror_mode": {
        "name": "ipython",
        "version": 3
      },
      "file_extension": ".py",
      "mimetype": "text/x-python",
      "name": "python",
      "nbconvert_exporter": "python",
      "pygments_lexer": "ipython3",
      "version": "3.12.1"
    }
  },
  "nbformat": 4,
  "nbformat_minor": 0
}
